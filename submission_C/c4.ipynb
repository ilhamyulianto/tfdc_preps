{
 "cells": [
  {
   "cell_type": "code",
   "execution_count": 1,
   "metadata": {},
   "outputs": [],
   "source": [
    "import json\n",
    "import tensorflow as tf\n",
    "import numpy as np\n",
    "import urllib\n",
    "from tensorflow.keras.preprocessing.text import Tokenizer\n",
    "from tensorflow.keras.preprocessing.sequence import pad_sequences"
   ]
  },
  {
   "cell_type": "code",
   "execution_count": 2,
   "metadata": {},
   "outputs": [],
   "source": [
    "def solution_C4():\n",
    "    data_url = 'https://github.com/dicodingacademy/assets/raw/main/Simulation/machine_learning/sarcasm.json'\n",
    "    urllib.request.urlretrieve(data_url, 'sarcasm.json')\n",
    "\n",
    "    # DO NOT CHANGE THIS CODE\n",
    "    # Make sure you used all of these parameters or test may fail\n",
    "    vocab_size = 1000\n",
    "    embedding_dim = 16\n",
    "    max_length = 120\n",
    "    trunc_type = 'post'\n",
    "    padding_type = 'post'\n",
    "    oov_tok = \"<OOV>\"\n",
    "    training_size = 20000\n",
    "\n",
    "    sentences = []\n",
    "    labels = []\n",
    "    # YOUR CODE HERE\n",
    "\n",
    "    with open('sarcasm.json', 'r') as f:\n",
    "        datastore = json.load(f)\n",
    "\n",
    "    for item in datastore:\n",
    "        sentences.append(item['headline'])\n",
    "        labels.append(item['is_sarcastic'])\n",
    "\n",
    "    training_sentences = sentences[:training_size]\n",
    "    validation_sentences = sentences[training_size:]\n",
    "    training_labels = labels[:training_size]\n",
    "    validation_labels = labels[training_size:]\n",
    "\n",
    "    # Fit your tokenizer with training data\n",
    "    # YOUR CODE HERE\n",
    "    tokenizer = Tokenizer(num_words=vocab_size, oov_token=oov_tok)\n",
    "    tokenizer.fit_on_texts(training_sentences)\n",
    "    training_sequences = tokenizer.texts_to_sequences(training_sentences)\n",
    "    training_padded = pad_sequences(training_sequences, maxlen=max_length, padding=padding_type, truncating=trunc_type)\n",
    "\n",
    "    validation_sequences = tokenizer.texts_to_sequences(validation_sentences)\n",
    "    validation_padded = pad_sequences(validation_sequences, maxlen=max_length, padding=padding_type,\n",
    "                                      truncating=trunc_type)\n",
    "\n",
    "    training_padded = np.array(training_padded)\n",
    "    training_labels = np.array(training_labels)\n",
    "    validation_padded = np.array(validation_padded)\n",
    "    validation_labels = np.array(validation_labels)\n",
    "\n",
    "    model = tf.keras.Sequential([\n",
    "        # YOUR CODE HERE. DO not change the last layer or test may fail\n",
    "        tf.keras.layers.Embedding(vocab_size, embedding_dim, input_length=max_length),\n",
    "        tf.keras.layers.Bidirectional(tf.keras.layers.LSTM(64, return_sequences=True)),\n",
    "        tf.keras.layers.Bidirectional(tf.keras.layers.LSTM(32)),\n",
    "        tf.keras.layers.Dense(24, activation='relu'),\n",
    "        tf.keras.layers.Dense(1, activation='sigmoid')\n",
    "    ])\n",
    "\n",
    "    model.compile(loss='binary_crossentropy', optimizer='adam', metrics=['accuracy'])\n",
    "\n",
    "    model.fit(training_padded, training_labels, epochs=10, validation_data=(validation_padded, validation_labels))\n",
    "\n",
    "    return model"
   ]
  },
  {
   "cell_type": "code",
   "execution_count": 3,
   "metadata": {},
   "outputs": [
    {
     "name": "stdout",
     "output_type": "stream",
     "text": [
      "Epoch 1/10\n",
      "625/625 [==============================] - 37s 54ms/step - loss: 0.4525 - accuracy: 0.7682 - val_loss: 0.3863 - val_accuracy: 0.8235\n",
      "Epoch 2/10\n",
      "625/625 [==============================] - 30s 48ms/step - loss: 0.3570 - accuracy: 0.8370 - val_loss: 0.3694 - val_accuracy: 0.8338\n",
      "Epoch 3/10\n",
      "625/625 [==============================] - 30s 48ms/step - loss: 0.3275 - accuracy: 0.8522 - val_loss: 0.3673 - val_accuracy: 0.8368\n",
      "Epoch 4/10\n",
      "625/625 [==============================] - 30s 48ms/step - loss: 0.3082 - accuracy: 0.8637 - val_loss: 0.3673 - val_accuracy: 0.8329\n",
      "Epoch 5/10\n",
      "625/625 [==============================] - 33s 53ms/step - loss: 0.2940 - accuracy: 0.8710 - val_loss: 0.3884 - val_accuracy: 0.8277\n",
      "Epoch 6/10\n",
      "625/625 [==============================] - 35s 56ms/step - loss: 0.2863 - accuracy: 0.8719 - val_loss: 0.3996 - val_accuracy: 0.8289\n",
      "Epoch 7/10\n",
      "625/625 [==============================] - 35s 56ms/step - loss: 0.2794 - accuracy: 0.8816 - val_loss: 0.3839 - val_accuracy: 0.8305\n",
      "Epoch 8/10\n",
      "625/625 [==============================] - 35s 56ms/step - loss: 0.2725 - accuracy: 0.8803 - val_loss: 0.3860 - val_accuracy: 0.8293\n",
      "Epoch 9/10\n",
      "625/625 [==============================] - 34s 55ms/step - loss: 0.2652 - accuracy: 0.8850 - val_loss: 0.3845 - val_accuracy: 0.8277\n",
      "Epoch 10/10\n",
      "625/625 [==============================] - 33s 52ms/step - loss: 0.2570 - accuracy: 0.8874 - val_loss: 0.3945 - val_accuracy: 0.8205\n"
     ]
    },
    {
     "name": "stderr",
     "output_type": "stream",
     "text": [
      "c:\\Users\\ilham\\miniconda3\\envs\\vision1\\lib\\site-packages\\keras\\src\\engine\\training.py:3000: UserWarning: You are saving your model as an HDF5 file via `model.save()`. This file format is considered legacy. We recommend using instead the native Keras format, e.g. `model.save('my_model.keras')`.\n",
      "  saving_api.save_model(\n"
     ]
    }
   ],
   "source": [
    "# The code below is to save your model as a .h5 file.\n",
    "# It will be saved automatically in your Submission folder.\n",
    "if __name__ == '__main__':\n",
    "    # DO NOT CHANGE THIS CODE\n",
    "    model = solution_C4()\n",
    "    model.save(\"model_C4.h5\")"
   ]
  }
 ],
 "metadata": {
  "kernelspec": {
   "display_name": "vision1",
   "language": "python",
   "name": "python3"
  },
  "language_info": {
   "codemirror_mode": {
    "name": "ipython",
    "version": 3
   },
   "file_extension": ".py",
   "mimetype": "text/x-python",
   "name": "python",
   "nbconvert_exporter": "python",
   "pygments_lexer": "ipython3",
   "version": "3.10.13"
  }
 },
 "nbformat": 4,
 "nbformat_minor": 2
}
