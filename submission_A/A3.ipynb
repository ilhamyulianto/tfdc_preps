{
 "cells": [
  {
   "cell_type": "code",
   "execution_count": 1,
   "metadata": {},
   "outputs": [],
   "source": [
    "import urllib.request\n",
    "import zipfile\n",
    "import tensorflow as tf\n",
    "from keras_preprocessing.image import ImageDataGenerator\n",
    "from tensorflow.keras.optimizers import RMSprop\n",
    "from tensorflow.keras import layers\n",
    "from tensorflow.keras import Model\n",
    "from tensorflow.keras.applications.inception_v3 import InceptionV3"
   ]
  },
  {
   "cell_type": "code",
   "execution_count": 2,
   "metadata": {},
   "outputs": [],
   "source": [
    "def solution_A3():\n",
    "    inceptionv3 = 'https://storage.googleapis.com/mledu-datasets/inception_v3_weights_tf_dim_ordering_tf_kernels_notop.h5'\n",
    "    urllib.request.urlretrieve(\n",
    "        inceptionv3, 'inception_v3_weights_tf_dim_ordering_tf_kernels_notop.h5')\n",
    "    local_weights_file = 'inception_v3_weights_tf_dim_ordering_tf_kernels_notop.h5'\n",
    "\n",
    "    pre_trained_model = InceptionV3(input_shape=(150, 150, 3),\n",
    "                                    include_top=False,\n",
    "                                    weights=None)\n",
    "    pre_trained_model.load_weights(local_weights_file)\n",
    "\n",
    "    for layer in pre_trained_model.layers:\n",
    "        layer.trainable = False\n",
    "\n",
    "    last_layer = pre_trained_model.get_layer('mixed7')\n",
    "    last_output = last_layer.output\n",
    "\n",
    "    data_url_1 = 'https://github.com/dicodingacademy/assets/releases/download/release-horse-or-human/horse-or-human.zip'\n",
    "    urllib.request.urlretrieve(data_url_1, 'horse-or-human.zip')\n",
    "    local_file = 'horse-or-human.zip'\n",
    "    zip_ref = zipfile.ZipFile(local_file, 'r')\n",
    "    zip_ref.extractall('data/horse-or-human')\n",
    "    zip_ref.close()\n",
    "\n",
    "    data_url_2 = 'https://github.com/dicodingacademy/assets/raw/main/Simulation/machine_learning/validation-horse-or-human.zip'\n",
    "    urllib.request.urlretrieve(data_url_2, 'validation-horse-or-human.zip')\n",
    "    local_file = 'validation-horse-or-human.zip'\n",
    "    zip_ref = zipfile.ZipFile(local_file, 'r')\n",
    "    zip_ref.extractall('data/validation-horse-or-human')\n",
    "    zip_ref.close()\n",
    "\n",
    "    train_dir = 'data/horse-or-human'\n",
    "    validation_dir = 'data/validation-horse-or-human'\n",
    "\n",
    "    train_datagen = ImageDataGenerator(rescale=1.0/255.0)\n",
    "    validation_datagen = ImageDataGenerator(rescale=1.0/255.0)\n",
    "\n",
    "    # YOUR IMAGE SIZE SHOULD BE 150x150\n",
    "    train_generator = train_datagen.flow_from_directory(\n",
    "        train_dir,\n",
    "        target_size=(150, 150),\n",
    "        batch_size=20,\n",
    "        class_mode='binary')\n",
    "\n",
    "    validation_generator = validation_datagen.flow_from_directory(\n",
    "        validation_dir,\n",
    "        target_size=(150, 150),\n",
    "        batch_size=20,\n",
    "        class_mode='binary')\n",
    "\n",
    "    x = layers.Flatten()(last_output)\n",
    "    x = layers.Dense(1024, activation='relu')(x)\n",
    "    x = layers.Dropout(0.2)(x)\n",
    "    x = layers.Dense(1, activation='sigmoid')(x)\n",
    "\n",
    "    model = Model(pre_trained_model.input, x)\n",
    "\n",
    "    model.compile(optimizer=RMSprop(lr=0.0001),\n",
    "                  loss='binary_crossentropy',\n",
    "                  metrics=['acc'])\n",
    "\n",
    "    train_steps_per_epoch = train_generator.samples // train_generator.batch_size\n",
    "    validation_steps = validation_generator.samples // validation_generator.batch_size\n",
    "\n",
    "    model.fit(\n",
    "        train_generator,\n",
    "        validation_data=validation_generator,\n",
    "        epochs=10,\n",
    "        steps_per_epoch=train_steps_per_epoch,\n",
    "        validation_steps=validation_steps,\n",
    "        verbose=2)\n",
    "\n",
    "    return model"
   ]
  },
  {
   "cell_type": "code",
   "execution_count": 3,
   "metadata": {},
   "outputs": [
    {
     "name": "stderr",
     "output_type": "stream",
     "text": [
      "WARNING:absl:`lr` is deprecated in Keras optimizer, please use `learning_rate` or use the legacy optimizer, e.g.,tf.keras.optimizers.legacy.RMSprop.\n"
     ]
    },
    {
     "name": "stdout",
     "output_type": "stream",
     "text": [
      "Found 1027 images belonging to 2 classes.\n",
      "Found 256 images belonging to 2 classes.\n",
      "Epoch 1/10\n",
      "51/51 - 17s - loss: 0.3826 - acc: 0.9652 - val_loss: 2.1358e-04 - val_acc: 1.0000 - 17s/epoch - 341ms/step\n",
      "Epoch 2/10\n",
      "51/51 - 11s - loss: 1.4086e-05 - acc: 1.0000 - val_loss: 0.0014 - val_acc: 1.0000 - 11s/epoch - 223ms/step\n",
      "Epoch 3/10\n",
      "51/51 - 11s - loss: 6.4509e-08 - acc: 1.0000 - val_loss: 1.6649e-06 - val_acc: 1.0000 - 11s/epoch - 224ms/step\n",
      "Epoch 4/10\n",
      "51/51 - 11s - loss: 1.1349e-08 - acc: 1.0000 - val_loss: 0.0015 - val_acc: 1.0000 - 11s/epoch - 225ms/step\n",
      "Epoch 5/10\n",
      "51/51 - 11s - loss: 6.1046e-08 - acc: 1.0000 - val_loss: 0.0016 - val_acc: 1.0000 - 11s/epoch - 224ms/step\n",
      "Epoch 6/10\n",
      "51/51 - 11s - loss: 9.7295e-08 - acc: 1.0000 - val_loss: 0.0019 - val_acc: 1.0000 - 11s/epoch - 224ms/step\n",
      "Epoch 7/10\n",
      "51/51 - 11s - loss: 6.8844e-08 - acc: 1.0000 - val_loss: 0.0021 - val_acc: 1.0000 - 11s/epoch - 223ms/step\n",
      "Epoch 8/10\n",
      "51/51 - 11s - loss: 9.4362e-08 - acc: 1.0000 - val_loss: 0.0026 - val_acc: 1.0000 - 11s/epoch - 224ms/step\n",
      "Epoch 9/10\n",
      "51/51 - 11s - loss: 2.0879e-08 - acc: 1.0000 - val_loss: 0.0027 - val_acc: 1.0000 - 11s/epoch - 224ms/step\n",
      "Epoch 10/10\n",
      "51/51 - 12s - loss: 5.2297e-07 - acc: 1.0000 - val_loss: 0.0053 - val_acc: 0.9958 - 12s/epoch - 227ms/step\n"
     ]
    },
    {
     "name": "stderr",
     "output_type": "stream",
     "text": [
      "c:\\Users\\ilham\\miniconda3\\envs\\vision1\\lib\\site-packages\\keras\\src\\engine\\training.py:3000: UserWarning: You are saving your model as an HDF5 file via `model.save()`. This file format is considered legacy. We recommend using instead the native Keras format, e.g. `model.save('my_model.keras')`.\n",
      "  saving_api.save_model(\n"
     ]
    }
   ],
   "source": [
    "# The code below is to save your model as a .h5 file.\n",
    "# It will be saved automatically in your Submission folder.\n",
    "if __name__ == '__main__':\n",
    "    # DO NOT CHANGE THIS CODE\n",
    "    model=solution_A3()\n",
    "    model.save(\"model_A3.h5\")"
   ]
  }
 ],
 "metadata": {
  "kernelspec": {
   "display_name": "vision1",
   "language": "python",
   "name": "python3"
  },
  "language_info": {
   "codemirror_mode": {
    "name": "ipython",
    "version": 3
   },
   "file_extension": ".py",
   "mimetype": "text/x-python",
   "name": "python",
   "nbconvert_exporter": "python",
   "pygments_lexer": "ipython3",
   "version": "3.10.13"
  }
 },
 "nbformat": 4,
 "nbformat_minor": 2
}
