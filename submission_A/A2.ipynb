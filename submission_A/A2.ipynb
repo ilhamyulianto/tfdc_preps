{
 "cells": [
  {
   "cell_type": "code",
   "execution_count": 3,
   "metadata": {},
   "outputs": [],
   "source": [
    "import urllib.request\n",
    "import zipfile\n",
    "import tensorflow as tf\n",
    "import os\n",
    "from keras_preprocessing.image import ImageDataGenerator\n",
    "from tensorflow.keras.optimizers import RMSprop"
   ]
  },
  {
   "cell_type": "code",
   "execution_count": 5,
   "metadata": {},
   "outputs": [],
   "source": [
    "def solution_A2():\n",
    "    data_url_1 = 'https://github.com/dicodingacademy/assets/releases/download/release-horse-or-human/horse-or-human.zip'\n",
    "    urllib.request.urlretrieve(data_url_1, 'horse-or-human.zip')\n",
    "    local_file = 'horse-or-human.zip'\n",
    "    zip_ref = zipfile.ZipFile(local_file, 'r')\n",
    "    zip_ref.extractall('data/horse-or-human')\n",
    "\n",
    "    data_url_2 = 'https://github.com/dicodingacademy/assets/raw/main/Simulation/machine_learning/validation-horse-or-human.zip'\n",
    "    urllib.request.urlretrieve(data_url_2, 'validation-horse-or-human.zip')\n",
    "    local_file = 'validation-horse-or-human.zip'\n",
    "    zip_ref = zipfile.ZipFile(local_file, 'r')\n",
    "    zip_ref.extractall('data/validation-horse-or-human')\n",
    "    zip_ref.close()\n",
    "\n",
    "    TRAINING_DIR = 'data/horse-or-human'\n",
    "    VALIDATION_DIR = 'data/validation-horse-or-human'\n",
    "    \n",
    "    train_datagen = ImageDataGenerator(rescale=1./255)\n",
    "    \n",
    "    validation_datagen = ImageDataGenerator(rescale=1./255)\n",
    "\n",
    "    # YOUR IMAGE SIZE SHOULD BE 150x150\n",
    "    train_generator = train_datagen.flow_from_directory(\n",
    "        TRAINING_DIR,\n",
    "        target_size=(150, 150),\n",
    "        batch_size=20,\n",
    "        class_mode='binary'\n",
    "    )\n",
    "    \n",
    "    validation_generator = validation_datagen.flow_from_directory(\n",
    "        VALIDATION_DIR,\n",
    "        target_size=(150, 150),\n",
    "        batch_size=20,\n",
    "        class_mode='binary'\n",
    "    )\n",
    "\n",
    "    model=tf.keras.models.Sequential([\n",
    "        tf.keras.layers.Conv2D(16, (3, 3), activation='relu', input_shape=(150, 150, 3)),\n",
    "        tf.keras.layers.MaxPooling2D(2, 2),\n",
    "        tf.keras.layers.Conv2D(32, (3, 3), activation='relu'),\n",
    "        tf.keras.layers.MaxPooling2D(2, 2),\n",
    "        tf.keras.layers.Conv2D(64, (3, 3), activation='relu'),\n",
    "        tf.keras.layers.MaxPooling2D(2, 2),\n",
    "        tf.keras.layers.Flatten(),\n",
    "        tf.keras.layers.Dense(512, activation='relu'),\n",
    "        tf.keras.layers.Dense(1, activation='sigmoid')\n",
    "    ])\n",
    "    \n",
    "    model.compile(\n",
    "        loss='binary_crossentropy',\n",
    "        optimizer=RMSprop(learning_rate=0.001),\n",
    "        metrics=['accuracy']\n",
    "    )\n",
    "\n",
    "    model.fit(\n",
    "        train_generator,\n",
    "        steps_per_epoch=51,\n",
    "        epochs=15,\n",
    "        validation_data=validation_generator,\n",
    "        validation_steps=12,\n",
    "        verbose=2\n",
    "    )\n",
    "\n",
    "    return model"
   ]
  },
  {
   "cell_type": "code",
   "execution_count": 6,
   "metadata": {},
   "outputs": [
    {
     "name": "stdout",
     "output_type": "stream",
     "text": [
      "Found 1027 images belonging to 2 classes.\n",
      "Found 256 images belonging to 2 classes.\n",
      "Epoch 1/15\n",
      "51/51 - 12s - loss: 0.8126 - accuracy: 0.6872 - val_loss: 0.2884 - val_accuracy: 0.8917 - 12s/epoch - 243ms/step\n",
      "Epoch 2/15\n",
      "51/51 - 6s - loss: 0.1744 - accuracy: 0.9275 - val_loss: 1.5469 - val_accuracy: 0.7750 - 6s/epoch - 111ms/step\n",
      "Epoch 3/15\n",
      "51/51 - 6s - loss: 0.1707 - accuracy: 0.9434 - val_loss: 1.5972 - val_accuracy: 0.8333 - 6s/epoch - 120ms/step\n",
      "Epoch 4/15\n",
      "51/51 - 6s - loss: 0.1094 - accuracy: 0.9682 - val_loss: 1.1925 - val_accuracy: 0.8500 - 6s/epoch - 119ms/step\n",
      "Epoch 5/15\n",
      "51/51 - 6s - loss: 0.0191 - accuracy: 0.9950 - val_loss: 0.5937 - val_accuracy: 0.8917 - 6s/epoch - 120ms/step\n",
      "Epoch 6/15\n",
      "51/51 - 6s - loss: 0.1400 - accuracy: 0.9772 - val_loss: 1.3760 - val_accuracy: 0.8625 - 6s/epoch - 122ms/step\n",
      "Epoch 7/15\n",
      "51/51 - 6s - loss: 0.0142 - accuracy: 0.9940 - val_loss: 1.8699 - val_accuracy: 0.8375 - 6s/epoch - 121ms/step\n",
      "Epoch 8/15\n",
      "51/51 - 6s - loss: 0.2671 - accuracy: 0.9782 - val_loss: 1.4625 - val_accuracy: 0.8417 - 6s/epoch - 122ms/step\n",
      "Epoch 9/15\n",
      "51/51 - 6s - loss: 0.0036 - accuracy: 0.9990 - val_loss: 1.7635 - val_accuracy: 0.8625 - 6s/epoch - 123ms/step\n",
      "Epoch 10/15\n",
      "51/51 - 6s - loss: 3.5986e-04 - accuracy: 1.0000 - val_loss: 2.5192 - val_accuracy: 0.8625 - 6s/epoch - 121ms/step\n",
      "Epoch 11/15\n",
      "51/51 - 6s - loss: 0.1874 - accuracy: 0.9752 - val_loss: 1.8041 - val_accuracy: 0.8417 - 6s/epoch - 109ms/step\n",
      "Epoch 12/15\n",
      "51/51 - 5s - loss: 0.0010 - accuracy: 1.0000 - val_loss: 1.2033 - val_accuracy: 0.9125 - 5s/epoch - 105ms/step\n",
      "Epoch 13/15\n",
      "51/51 - 5s - loss: 0.0930 - accuracy: 0.9871 - val_loss: 2.4150 - val_accuracy: 0.8417 - 5s/epoch - 105ms/step\n",
      "Epoch 14/15\n",
      "51/51 - 5s - loss: 1.5789e-04 - accuracy: 1.0000 - val_loss: 3.5196 - val_accuracy: 0.8125 - 5s/epoch - 105ms/step\n",
      "Epoch 15/15\n",
      "51/51 - 5s - loss: 0.0384 - accuracy: 0.9871 - val_loss: 2.0650 - val_accuracy: 0.8500 - 5s/epoch - 106ms/step\n"
     ]
    },
    {
     "name": "stderr",
     "output_type": "stream",
     "text": [
      "c:\\Users\\ilham\\miniconda3\\envs\\vision1\\lib\\site-packages\\keras\\src\\engine\\training.py:3000: UserWarning: You are saving your model as an HDF5 file via `model.save()`. This file format is considered legacy. We recommend using instead the native Keras format, e.g. `model.save('my_model.keras')`.\n",
      "  saving_api.save_model(\n"
     ]
    }
   ],
   "source": [
    "# The code below is to save your model as a .h5 file.\n",
    "# It will be saved automatically in your Submission folder.\n",
    "if __name__ == '__main__':\n",
    "    # DO NOT CHANGE THIS CODE\n",
    "    model=solution_A2()\n",
    "    model.save(\"model_A2.h5\")"
   ]
  }
 ],
 "metadata": {
  "kernelspec": {
   "display_name": "vision1",
   "language": "python",
   "name": "python3"
  },
  "language_info": {
   "codemirror_mode": {
    "name": "ipython",
    "version": 3
   },
   "file_extension": ".py",
   "mimetype": "text/x-python",
   "name": "python",
   "nbconvert_exporter": "python",
   "pygments_lexer": "ipython3",
   "version": "3.10.13"
  }
 },
 "nbformat": 4,
 "nbformat_minor": 2
}
