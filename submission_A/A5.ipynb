{
 "cells": [
  {
   "cell_type": "code",
   "execution_count": 1,
   "metadata": {},
   "outputs": [],
   "source": [
    "import csv\n",
    "import tensorflow as tf\n",
    "import numpy as np\n",
    "import urllib"
   ]
  },
  {
   "cell_type": "code",
   "execution_count": 2,
   "metadata": {},
   "outputs": [],
   "source": [
    "# DO NOT CHANGE THIS CODE\n",
    "def windowed_dataset(series, window_size, batch_size, shuffle_buffer):\n",
    "    series = tf.expand_dims(series, axis=-1)\n",
    "    ds = tf.data.Dataset.from_tensor_slices(series)\n",
    "    ds = ds.window(window_size + 1, shift=1, drop_remainder=True)\n",
    "    ds = ds.flat_map(lambda w: w.batch(window_size + 1))\n",
    "    ds = ds.shuffle(shuffle_buffer)\n",
    "    ds = ds.map(lambda w: (w[:-1], w[1:]))\n",
    "    return ds.batch(batch_size).prefetch(1)\n",
    "\n",
    "\n",
    "def solution_A5():\n",
    "    data_url = 'https://github.com/dicodingacademy/assets/raw/main/Simulation/machine_learning/sunspots.csv'\n",
    "    urllib.request.urlretrieve(data_url, 'sunspots.csv')\n",
    "\n",
    "    time_step = []\n",
    "    sunspots = []\n",
    "\n",
    "    with open('sunspots.csv') as csvfile:\n",
    "      reader = csv.reader(csvfile, delimiter=',')\n",
    "      next(reader)\n",
    "      for row in reader:\n",
    "        sunspots.append(float(row[2]))\n",
    "        time_step.append(int(row[0]))\n",
    "\n",
    "    series= np.array(sunspots)\n",
    "\n",
    "    # Normalization Function. DO NOT CHANGE THIS CODE\n",
    "    min=np.min(series)\n",
    "    max=np.max(series)\n",
    "    series -= min\n",
    "    series /= max\n",
    "    time=np.array(time_step)\n",
    "\n",
    "    # DO NOT CHANGE THIS CODE\n",
    "    split_time=3000\n",
    "\n",
    "\n",
    "    time_train=  time[:split_time]\n",
    "    x_train = series[:split_time]\n",
    "    time_valid = time[split_time:]\n",
    "    x_valid = series[split_time:]\n",
    "\n",
    "    # DO NOT CHANGE THIS CODE\n",
    "    window_size=30\n",
    "    batch_size=32\n",
    "    shuffle_buffer_size=1000\n",
    "\n",
    "\n",
    "    train_set=windowed_dataset(x_train, window_size=window_size,\n",
    "                               batch_size=batch_size, shuffle_buffer=shuffle_buffer_size)\n",
    "\n",
    "\n",
    "    model=tf.keras.models.Sequential([\n",
    "      tf.keras.layers.Conv1D(filters=64, kernel_size=5,\n",
    "                               strides=1, padding=\"causal\",\n",
    "                               activation=\"relu\",\n",
    "                               input_shape=[None, 1]),\n",
    "        tf.keras.layers.LSTM(128, return_sequences=True),\n",
    "        tf.keras.layers.LSTM(128, return_sequences=True),\n",
    "        tf.keras.layers.Dense(64, activation=\"relu\"),\n",
    "        tf.keras.layers.Dense(32, activation=\"relu\"),\n",
    "        tf.keras.layers.Dense(10, activation=\"relu\"),\n",
    "        tf.keras.layers.Dense(1)\n",
    "    ])\n",
    "\n",
    "    model.compile(loss=tf.keras.losses.Huber(),\n",
    "                  optimizer=tf.keras.optimizers.Adam(learning_rate=1e-4),\n",
    "                  metrics=[\"mae\"])\n",
    "\n",
    "    model.fit(train_set, epochs=10)\n",
    "    \n",
    "    return model"
   ]
  },
  {
   "cell_type": "code",
   "execution_count": 3,
   "metadata": {},
   "outputs": [
    {
     "name": "stdout",
     "output_type": "stream",
     "text": [
      "Epoch 1/10\n",
      "93/93 [==============================] - 6s 36ms/step - loss: 0.0149 - mae: 0.1232\n",
      "Epoch 2/10\n",
      "93/93 [==============================] - 3s 31ms/step - loss: 0.0066 - mae: 0.0808\n",
      "Epoch 3/10\n",
      "93/93 [==============================] - 3s 32ms/step - loss: 0.0047 - mae: 0.0669\n",
      "Epoch 4/10\n",
      "93/93 [==============================] - 3s 32ms/step - loss: 0.0036 - mae: 0.0596\n",
      "Epoch 5/10\n",
      "93/93 [==============================] - 3s 33ms/step - loss: 0.0031 - mae: 0.0551\n",
      "Epoch 6/10\n",
      "93/93 [==============================] - 3s 33ms/step - loss: 0.0028 - mae: 0.0527\n",
      "Epoch 7/10\n",
      "93/93 [==============================] - 3s 34ms/step - loss: 0.0026 - mae: 0.0513\n",
      "Epoch 8/10\n",
      "93/93 [==============================] - 3s 33ms/step - loss: 0.0025 - mae: 0.0502\n",
      "Epoch 9/10\n",
      "93/93 [==============================] - 3s 32ms/step - loss: 0.0024 - mae: 0.0495\n",
      "Epoch 10/10\n",
      "93/93 [==============================] - 3s 32ms/step - loss: 0.0023 - mae: 0.0489\n"
     ]
    },
    {
     "name": "stderr",
     "output_type": "stream",
     "text": [
      "c:\\Users\\ilham\\miniconda3\\envs\\vision1\\lib\\site-packages\\keras\\src\\engine\\training.py:3000: UserWarning: You are saving your model as an HDF5 file via `model.save()`. This file format is considered legacy. We recommend using instead the native Keras format, e.g. `model.save('my_model.keras')`.\n",
      "  saving_api.save_model(\n"
     ]
    }
   ],
   "source": [
    "# The code below is to save your model as a .h5 file.\n",
    "# It will be saved automatically in your Submission folder.\n",
    "if __name__ == '__main__':\n",
    "    # DO NOT CHANGE THIS CODE\n",
    "    model=solution_A5()\n",
    "    model.save(\"model_A5.h5\")\n"
   ]
  }
 ],
 "metadata": {
  "kernelspec": {
   "display_name": "vision1",
   "language": "python",
   "name": "python3"
  },
  "language_info": {
   "codemirror_mode": {
    "name": "ipython",
    "version": 3
   },
   "file_extension": ".py",
   "mimetype": "text/x-python",
   "name": "python",
   "nbconvert_exporter": "python",
   "pygments_lexer": "ipython3",
   "version": "3.10.13"
  }
 },
 "nbformat": 4,
 "nbformat_minor": 2
}
